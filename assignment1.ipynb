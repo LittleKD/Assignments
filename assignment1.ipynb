{
 "cells": [
  {
   "cell_type": "markdown",
   "metadata": {},
   "source": [
    "# Preliminaries/Importing Data for Weather Problems"
   ]
  },
  {
   "cell_type": "code",
   "execution_count": 114,
   "metadata": {},
   "outputs": [],
   "source": [
    "import numpy as np\n",
    "import pandas as pd\n",
    "import matplotlib.pylab as plt\n",
    "\n",
    "file = 'US_WeatherEvents_2016-2019.csv'\n",
    "df = pd.read_csv(file)"
   ]
  },
  {
   "cell_type": "markdown",
   "metadata": {},
   "source": [
    "## Q1: How many snow events were recorded?\n",
    " A: 679,472 snow events were recorded"
   ]
  },
  {
   "cell_type": "code",
   "execution_count": 15,
   "metadata": {},
   "outputs": [
    {
     "data": {
      "text/plain": [
       "Rain             3067581\n",
       "Fog              1068653\n",
       "Snow              679472\n",
       "Cold              141626\n",
       "Precipitation      67299\n",
       "Storm              32688\n",
       "Hail                2514\n",
       "Name: Type, dtype: int64"
      ]
     },
     "execution_count": 15,
     "metadata": {},
     "output_type": "execute_result"
    }
   ],
   "source": [
    "df['Type'].value_counts()"
   ]
  },
  {
   "cell_type": "markdown",
   "metadata": {},
   "source": [
    "## Q2: How many moderate snow events were recorded each year? Produce a table and line plot\n",
    "\n",
    "A: Plot and table below\n",
    "<br>Found by summing occurrences of year substring in StartTime(UTC) column (created subset of only moderate snow events)"
   ]
  },
  {
   "cell_type": "code",
   "execution_count": 141,
   "metadata": {},
   "outputs": [
    {
     "name": "stdout",
     "output_type": "stream",
     "text": [
      "   Year  Count\n",
      "0  2016  16900\n",
      "1  2017  15779\n",
      "2  2018  18684\n",
      "3  2019  22278\n"
     ]
    },
    {
     "data": {
      "image/png": "[encoded data removed]",
      "text/plain": [
       "<Figure size 432x288 with 1 Axes>"
      ]
     },
     "metadata": {
      "needs_background": "light"
     },
     "output_type": "display_data"
    }
   ],
   "source": [
    "#subset with moderate snow events\n",
    "modSnow = df[df.Severity.isin(['Moderate']) & df.Type.isin(['Snow'])]\n",
    "\n",
    "pieces = []\n",
    "years = ['2016', '2017', '2018', '2019']\n",
    "\n",
    "#summing occurence of the year in the strings\n",
    "for year in years:\n",
    "    snowcount = modSnow['StartTime(UTC)'].str.count(str(year)).sum()\n",
    "    pieces.append(snowcount)\n",
    "\n",
    "frame = { 'Year': years, 'Count': pieces} \n",
    "df4 = pd.DataFrame(frame)\n",
    "print(df4)\n",
    "\n",
    "#line plot\n",
    "df4.plot(x = 'Year', y = 'Count', kind = 'line')\n",
    "plt.show()"
   ]
  },
  {
   "cell_type": "markdown",
   "metadata": {},
   "source": [
    "## Q3: How many snow events were recorded in each state?\n",
    "\n",
    "A: Values counted below\n",
    "<br>Checked value counts for each state in subset of snow events"
   ]
  },
  {
   "cell_type": "code",
   "execution_count": 264,
   "metadata": {},
   "outputs": [
    {
     "data": {
      "text/plain": [
       "MI    76455\n",
       "MN    74201\n",
       "WI    46691\n",
       "WY    43646\n",
       "CO    38218\n",
       "ND    33522\n",
       "NY    28592\n",
       "IA    26408\n",
       "MT    23906\n",
       "OH    20848\n",
       "PA    19555\n",
       "ID    19491\n",
       "IL    17429\n",
       "NE    16751\n",
       "SD    16491\n",
       "ME    13821\n",
       "IN    12838\n",
       "WA    12737\n",
       "VT    10124\n",
       "NH     9856\n",
       "MA     9595\n",
       "VA     9012\n",
       "OR     8988\n",
       "CA     8727\n",
       "WV     8423\n",
       "UT     8386\n",
       "NM     7561\n",
       "NV     5852\n",
       "KS     5758\n",
       "MO     5662\n",
       "KY     5449\n",
       "AZ     4973\n",
       "NC     4820\n",
       "NJ     3695\n",
       "TX     3351\n",
       "CT     3200\n",
       "OK     3078\n",
       "MD     2842\n",
       "RI     1530\n",
       "AR     1461\n",
       "TN     1302\n",
       "GA     1021\n",
       "SC      837\n",
       "AL      701\n",
       "DE      663\n",
       "MS      535\n",
       "LA      401\n",
       "FL       69\n",
       "Name: State, dtype: int64"
      ]
     },
     "execution_count": 264,
     "metadata": {},
     "output_type": "execute_result"
    }
   ],
   "source": [
    "snow = df[df['Type'] == 'Snow']\n",
    "snow['State'].value_counts()"
   ]
  },
  {
   "cell_type": "markdown",
   "metadata": {},
   "source": [
    "## Q4: How many snow events were recorded each hour?\n",
    "\n",
    "A: There were 1763487 hours of snow total. Table for each hour below.\n",
    "\n",
    "Found length of snow events then incremented value for each hour based on length of snow event"
   ]
  },
  {
   "cell_type": "code",
   "execution_count": 128,
   "metadata": {},
   "outputs": [
    {
     "name": "stdout",
     "output_type": "stream",
     "text": [
      "1763487\n"
     ]
    },
    {
     "data": {
      "text/plain": [
       "{'00': 71585,\n",
       " '01': 71243,\n",
       " '02': 71802,\n",
       " '03': 70003,\n",
       " '04': 72201,\n",
       " '05': 72836,\n",
       " '06': 73973,\n",
       " '07': 73229,\n",
       " '08': 74596,\n",
       " '09': 75125,\n",
       " '10': 76677,\n",
       " '11': 77197,\n",
       " '12': 78025,\n",
       " '13': 81943,\n",
       " '14': 81544,\n",
       " '15': 77067,\n",
       " '16': 72259,\n",
       " '17': 71417,\n",
       " '18': 69207,\n",
       " '19': 69906,\n",
       " '20': 69825,\n",
       " '21': 69617,\n",
       " '22': 71001,\n",
       " '23': 71209}"
      ]
     },
     "execution_count": 128,
     "metadata": {},
     "output_type": "execute_result"
    }
   ],
   "source": [
    "snow = df[df.Type.isin(['Snow'])]\n",
    "totalHours = 0\n",
    "frame = { '00': 0, '01': 0, '02': 0, '03': 0, '04': 0,\n",
    "        '05': 0 , '06': 0, '07': 0, '08': 0, '09': 0,\n",
    "        '10': 0, '11': 0, '12': 0, '13': 0, '14': 0,\n",
    "        '15': 0, '16': 0, '17': 0, '18': 0, '19': 0,\n",
    "        '20': 0, '21': 0, '22': 0, '23': 0} \n",
    "\n",
    "#calculates length of snow and finds for each hours\n",
    "for i, j in zip(snow['StartTime(UTC)'], snow['EndTime(UTC)']):\n",
    "    snowEventHours = int(str(j[11:13])) - int(str(i[11:13])) + 1\n",
    "    \n",
    "    #checking for special cases\n",
    "    if snowEventHours < 0:\n",
    "        snowEventHours = snowEventHours + 24\n",
    "    if snowEventHours == 0:\n",
    "        snowEventHours = snowEventHours + 1\n",
    "        \n",
    "    #summing for total hours\n",
    "    totalHours = totalHours + snowEventHours\n",
    "    \n",
    "    #given how many hours event went for, increment value for each hour starting from starting hour\n",
    "    for hour in range(snowEventHours):\n",
    "        frame[i[11:13]] = frame.get(i[11:13] , 0) + 1\n",
    "\n",
    "print(totalHours)\n",
    "frame"
   ]
  },
  {
   "cell_type": "markdown",
   "metadata": {},
   "source": [
    "## Q5: How many events of each severity did San Diego have? Produce a table and bar plot.\n",
    "\n",
    "A: Table and Plot below"
   ]
  },
  {
   "cell_type": "code",
   "execution_count": 279,
   "metadata": {},
   "outputs": [
    {
     "name": "stdout",
     "output_type": "stream",
     "text": [
      "Light       584100\n",
      "Moderate     73641\n",
      "Heavy        21731\n",
      "Name: Severity, dtype: int64\n"
     ]
    },
    {
     "data": {
      "image/png": "[encoded data removed]",
      "text/plain": [
       "<Figure size 432x288 with 1 Axes>"
      ]
     },
     "metadata": {
      "needs_background": "light"
     },
     "output_type": "display_data"
    }
   ],
   "source": [
    "#subset of only San Diego weather events\n",
    "sd = df[df['City'] == 'San Diego']\n",
    "count = snow['Severity'].value_counts()\n",
    "\n",
    "print(count)\n",
    "\n",
    "count.plot(x = 'Severity', y = 'Count', kind = 'bar')\n",
    "plt.show()"
   ]
  },
  {
   "cell_type": "markdown",
   "metadata": {},
   "source": [
    "# Preliminaries/Importing Data for Trump Tweets Problems"
   ]
  },
  {
   "cell_type": "code",
   "execution_count": 2,
   "metadata": {},
   "outputs": [],
   "source": [
    "import numpy as np\n",
    "import pandas as pd\n",
    "import matplotlib.pylab as plt\n",
    "\n",
    "file = 'trumptweets.csv'\n",
    "df = pd.read_csv(file)\n"
   ]
  },
  {
   "cell_type": "markdown",
   "metadata": {},
   "source": [
    "## Q1: How many tweets did the President make each year? Produce a table of results and plot the values\n",
    "\n",
    "A: Table and Plot below\n",
    "<br>Found by summing the occurrence of the year in the strings then created dataframe for table and plot "
   ]
  },
  {
   "cell_type": "code",
   "execution_count": 4,
   "metadata": {},
   "outputs": [
    {
     "name": "stdout",
     "output_type": "stream",
     "text": [
      "    Year  Count\n",
      "0   2009     56\n",
      "1   2010    143\n",
      "2   2011    870\n",
      "3   2012   4190\n",
      "4   2013   8207\n",
      "5   2014   5987\n",
      "6   2015   7719\n",
      "7   2016   3951\n",
      "8   2017   2232\n",
      "9   2018   2998\n",
      "10  2019   4588\n",
      "11  2020    181\n"
     ]
    },
    {
     "data": {
      "image/png": "[encoded data removed]",
      "text/plain": [
       "<Figure size 432x288 with 1 Axes>"
      ]
     },
     "metadata": {
      "needs_background": "light"
     },
     "output_type": "display_data"
    }
   ],
   "source": [
    "pieces = []\n",
    "years = list(range(2009,2021))\n",
    "\n",
    "#summing occurence of the year in the strings\n",
    "for year in years:\n",
    "    numTweets = df.date.str.count(str(year)).sum()\n",
    "    pieces.append(numTweets)\n",
    "\n",
    "frame = { 'Year': years, 'Count': pieces} \n",
    "df2 = pd.DataFrame(frame)\n",
    "\n",
    "print(df2)\n",
    "df2.plot(x = 'Year', y = 'Count', kind = 'bar')\n",
    "plt.show()"
   ]
  },
  {
   "cell_type": "markdown",
   "metadata": {},
   "source": [
    "## Q2: How many tweets contain \"Fake News\"?\n",
    "\n",
    "A: There were 494 occurrences of \"Fake News\" specifically.\n",
    "\n",
    "Counts:\n",
    "<br>\"Fake News\": 494\n",
    "<br>\"fake News\": 0\n",
    "<br>\"fake news\": 11\n",
    "<br>\"Fake news\": 1\n",
    "<br>\"FAKE NEWS\": 74\n",
    "<br>Total: 580"
   ]
  },
  {
   "cell_type": "code",
   "execution_count": 112,
   "metadata": {},
   "outputs": [
    {
     "name": "stdout",
     "output_type": "stream",
     "text": [
      "494\n",
      "0\n",
      "11\n",
      "1\n",
      "74\n",
      "580\n",
      "580\n"
     ]
    }
   ],
   "source": [
    "FakeNews = df.content.str.count(\"Fake News\").sum()\n",
    "fakeNews = df.content.str.count(\"fake News\").sum()\n",
    "fakenews = df.content.str.count(\"fake news\").sum()\n",
    "Fakenews = df.content.str.count(\"Fake news\").sum()\n",
    "FAKENEWS = df.content.str.count(\"FAKE NEWS\").sum()\n",
    "\n",
    "#checking all regardless of capitalization\n",
    "fakenewsall = df.content.str.upper()\n",
    "count = fakenewsall.str.count(\"FAKE NEWS\").sum()\n",
    "\n",
    "print(FakeNews)\n",
    "print(fakeNews)\n",
    "print(fakenews)\n",
    "print(Fakenews)\n",
    "print(FAKENEWS)\n",
    "print(count)\n",
    "\n",
    "total = fakeNews + FakeNews + fakenews + Fakenews + FAKENEWS\n",
    "print(total)"
   ]
  },
  {
   "cell_type": "markdown",
   "metadata": {},
   "source": [
    "## Q3: A tweet with the location could be considered a security issue as it would give the current location of the President. How many tweets contain a location?\n",
    "\n",
    "A: There are 0 tweets with a location/geotag"
   ]
  },
  {
   "cell_type": "code",
   "execution_count": 3,
   "metadata": {},
   "outputs": [
    {
     "name": "stdout",
     "output_type": "stream",
     "text": [
      "<class 'pandas.core.frame.DataFrame'>\n",
      "RangeIndex: 41122 entries, 0 to 41121\n",
      "Data columns (total 9 columns):\n",
      "id           41122 non-null int64\n",
      "link         41122 non-null object\n",
      "content      41122 non-null object\n",
      "date         41122 non-null object\n",
      "retweets     41122 non-null int64\n",
      "favorites    41122 non-null int64\n",
      "mentions     22467 non-null object\n",
      "hashtags     5810 non-null object\n",
      "geo          0 non-null float64\n",
      "dtypes: float64(1), int64(3), object(5)\n",
      "memory usage: 2.8+ MB\n",
      "0\n"
     ]
    }
   ],
   "source": [
    "df.info()\n",
    "\n",
    "print(len(df[df['geo'].notnull()]))\n",
    "\n",
    "null = df['geo'].isnull()\n",
    "#len(null)"
   ]
  },
  {
   "cell_type": "markdown",
   "metadata": {},
   "source": [
    "## Q4: How many tweets were done each hour? Produce a table and a plot.\n",
    "\n",
    "A: Plot and Table below\n",
    "<br>Summed occurrences of each hour in the date strings then created dataframe for table and plot purposes"
   ]
  },
  {
   "cell_type": "code",
   "execution_count": 94,
   "metadata": {},
   "outputs": [
    {
     "name": "stdout",
     "output_type": "stream",
     "text": [
      "   Hour  Count\n",
      "0    00   1620\n",
      "1    01   1522\n",
      "2    02   1795\n",
      "3    03   1974\n",
      "4    04   2076\n",
      "5    05   1258\n",
      "6    06    831\n",
      "7    07    400\n",
      "8    08    347\n",
      "9    09    321\n",
      "10   10    458\n",
      "11   11    706\n",
      "12   12   1377\n",
      "13   13   2226\n",
      "14   14   2448\n",
      "15   15   2544\n",
      "16   16   2319\n",
      "17   17   2146\n",
      "18   18   2025\n",
      "19   19   2095\n",
      "20   20   2696\n",
      "21   21   3184\n",
      "22   22   3050\n",
      "23   23   1704\n"
     ]
    },
    {
     "data": {
      "image/png": "[encoded data removed]",
      "text/plain": [
       "<Figure size 432x288 with 1 Axes>"
      ]
     },
     "metadata": {
      "needs_background": "light"
     },
     "output_type": "display_data"
    }
   ],
   "source": [
    "clock = list(range(0,24))\n",
    "hours = [str(hour).zfill(2) for hour in clock]\n",
    "\n",
    "pieces = []\n",
    "frame = { 'Hour': hours, 'Count': pieces} \n",
    "\n",
    "#splitting up date column to only have hours\n",
    "hoursOnly = df.date.str[11:13]\n",
    "\n",
    "#summing occurrences of each hour\n",
    "for hour in hours:\n",
    "    numTweets = hoursOnly.str.count(hour).sum()\n",
    "    pieces.append(numTweets)\n",
    "\n",
    "df2 = pd.DataFrame(frame)\n",
    "\n",
    "print(df2)\n",
    "\n",
    "df2.plot(x = 'Hour', y = 'Count', kind = 'bar')\n",
    "plt.show()\n",
    "\n",
    "#df2['Count'].sum()"
   ]
  },
  {
   "cell_type": "code",
   "execution_count": null,
   "metadata": {},
   "outputs": [],
   "source": []
  }
 ],
 "metadata": {
  "kernelspec": {
   "display_name": "Python 3",
   "language": "python",
   "name": "python3"
  },
  "language_info": {
   "codemirror_mode": {
    "name": "ipython",
    "version": 3
   },
   "file_extension": ".py",
   "mimetype": "text/x-python",
   "name": "python",
   "nbconvert_exporter": "python",
   "pygments_lexer": "ipython3",
   "version": "3.7.3"
  }
 },
 "nbformat": 4,
 "nbformat_minor": 2
}
